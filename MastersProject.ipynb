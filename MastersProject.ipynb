{
 "cells": [
  {
   "cell_type": "code",
   "execution_count": 51,
   "metadata": {
    "executionInfo": {
     "elapsed": 2582,
     "status": "ok",
     "timestamp": 1689624100162,
     "user": {
      "displayName": "Karol Kocierz",
      "userId": "17895505934666913437"
     },
     "user_tz": -120
    },
    "id": "bFBRtueF5TFK"
   },
   "outputs": [],
   "source": [
    "from sklearn.datasets import load_iris\n",
    "from sklearn.model_selection import train_test_split\n",
    "import torch\n",
    "from torch import nn\n",
    "from torch import optim\n",
    "from sklearn.preprocessing import OneHotEncoder\n",
    "import numpy as np\n",
    "import tqdm\n",
    "from copy import deepcopy"
   ]
  },
  {
   "cell_type": "code",
   "execution_count": 52,
   "metadata": {
    "executionInfo": {
     "elapsed": 4,
     "status": "ok",
     "timestamp": 1689624100163,
     "user": {
      "displayName": "Karol Kocierz",
      "userId": "17895505934666913437"
     },
     "user_tz": -120
    },
    "id": "qdDI2BiZYRO7"
   },
   "outputs": [],
   "source": [
    "data = load_iris()\n",
    "X = data['data']\n",
    "y = [[t] for t in data['target']]\n",
    "ohe = OneHotEncoder(handle_unknown='ignore', sparse_output=False).fit(y)\n",
    "y = ohe.transform(y)\n",
    "X = torch.tensor(X, dtype=torch.float32)\n",
    "y = torch.tensor(y, dtype=torch.float32)"
   ]
  },
  {
   "cell_type": "code",
   "execution_count": 53,
   "metadata": {
    "executionInfo": {
     "elapsed": 3,
     "status": "ok",
     "timestamp": 1689624100163,
     "user": {
      "displayName": "Karol Kocierz",
      "userId": "17895505934666913437"
     },
     "user_tz": -120
    },
    "id": "PsGaNpbjZQoY"
   },
   "outputs": [],
   "source": [
    "xtr, xts, ytr, yts = train_test_split(X, y, train_size=0.7, shuffle=True)"
   ]
  },
  {
   "cell_type": "code",
   "execution_count": 54,
   "metadata": {
    "executionInfo": {
     "elapsed": 3,
     "status": "ok",
     "timestamp": 1689624100163,
     "user": {
      "displayName": "Karol Kocierz",
      "userId": "17895505934666913437"
     },
     "user_tz": -120
    },
    "id": "Ba6Fw5YlZSqW"
   },
   "outputs": [],
   "source": [
    "class Multiclass(nn.Module):\n",
    "    def __init__(self):\n",
    "        super().__init__()\n",
    "        self.hidden = nn.Linear(4, 8)\n",
    "        self.act = nn.ReLU()\n",
    "        self.output = nn.Linear(8, 3)\n",
    "\n",
    "    def forward(self, x):\n",
    "        x = self.act(self.hidden(x))\n",
    "        x = self.output(x)\n",
    "        return x"
   ]
  },
  {
   "cell_type": "code",
   "execution_count": 55,
   "metadata": {
    "executionInfo": {
     "elapsed": 4,
     "status": "ok",
     "timestamp": 1689624100164,
     "user": {
      "displayName": "Karol Kocierz",
      "userId": "17895505934666913437"
     },
     "user_tz": -120
    },
    "id": "Dmc03rnoZY2m"
   },
   "outputs": [],
   "source": [
    "def get_batched(data, batch_size):\n",
    "    if batch_size is None:\n",
    "        return data\n",
    "    dc = deepcopy(data)\n",
    "    while dc.numel():\n",
    "        batch, dc = dc[:batch_size], dc[batch_size:]\n",
    "        yield batch\n",
    "\n",
    "def format_stats(loss, acc):\n",
    "    return f\"Loss={loss:.2f}, Accuracy={acc*100:.1f}%\"\n",
    "        \n",
    "def train(model, xtr, ytr, batch_size = None):\n",
    "    cum_loss, cum_acc = [], []\n",
    "    for xtrb, ytrb in zip(get_batched(xtr, batch_size), get_batched(ytr, batch_size)):\n",
    "        ypred = model(xtrb)\n",
    "        loss = loss_fn(ypred, ytrb)\n",
    "        optimizer.zero_grad()\n",
    "        loss.backward()\n",
    "        optimizer.step()\n",
    "        acc = (torch.argmax(ypred, 1) == torch.argmax(ytrb, 1)).float().mean()\n",
    "        cum_loss.append(float(loss))\n",
    "        cum_acc.append(float(acc))\n",
    "    return cum_loss, cum_acc\n",
    "\n",
    "def test(model, xts, yts):\n",
    "    ypred = model(xts)\n",
    "    loss = loss_fn(ypred, yts)\n",
    "    acc = (torch.argmax(ypred, 1) == torch.argmax(xts, 1)).float().mean()\n",
    "    return float(loss), float(acc)\n",
    "\n",
    "\n",
    "def train_epochs(model, xtr, ytr, xts, yts, n_epochs = 100, batch_size = 5):\n",
    "    best_acc = - np.inf\n",
    "    best_weights = None\n",
    "    train_loss_hist = []\n",
    "    train_acc_hist = []\n",
    "    \n",
    "    for epoch in range(n_epochs):\n",
    "        epoch_loss = []\n",
    "        epoch_acc = []\n",
    "        model.train()\n",
    "        cum_loss, cum_acc = train(model, xtr, ytr, batch_size)\n",
    "        model.eval()\n",
    "        mloss, macc = np.mean(cum_loss), np.mean(cum_acc)\n",
    "        train_loss_hist.append(mloss)\n",
    "        train_acc_hist.append(macc)\n",
    "        if macc > best_acc:\n",
    "            best_acc = macc\n",
    "            best_weights = deepcopy(model.state_dict())\n",
    "        print(f\"Epoch {epoch} validation: Cross-entropy={mloss:.2f}, Accuracy={macc*100:.1f}%\")\n",
    "    model.load_state_dict(best_weights)\n",
    "\n",
    "\n"
   ]
  },
  {
   "cell_type": "code",
   "execution_count": 56,
   "metadata": {
    "colab": {
     "base_uri": "https://localhost:8080/"
    },
    "executionInfo": {
     "elapsed": 28911,
     "status": "ok",
     "timestamp": 1689624129897,
     "user": {
      "displayName": "Karol Kocierz",
      "userId": "17895505934666913437"
     },
     "user_tz": -120
    },
    "id": "FL7SQMQHX7uV",
    "outputId": "73259caf-dbc9-4530-d44b-9e5d3820d427"
   },
   "outputs": [
    {
     "name": "stdout",
     "output_type": "stream",
     "text": [
      "Epoch 0 validation: Cross-entropy=1.28, Accuracy=32.4%\n",
      "Epoch 1 validation: Cross-entropy=1.15, Accuracy=32.4%\n",
      "Epoch 2 validation: Cross-entropy=1.07, Accuracy=37.1%\n",
      "Epoch 3 validation: Cross-entropy=1.01, Accuracy=58.1%\n",
      "Epoch 4 validation: Cross-entropy=0.97, Accuracy=65.7%\n",
      "Epoch 5 validation: Cross-entropy=0.94, Accuracy=65.7%\n",
      "Epoch 6 validation: Cross-entropy=0.92, Accuracy=65.7%\n",
      "Epoch 7 validation: Cross-entropy=0.89, Accuracy=65.7%\n",
      "Epoch 8 validation: Cross-entropy=0.87, Accuracy=65.7%\n",
      "Epoch 9 validation: Cross-entropy=0.85, Accuracy=65.7%\n",
      "Epoch 10 validation: Cross-entropy=0.83, Accuracy=65.7%\n",
      "Epoch 11 validation: Cross-entropy=0.81, Accuracy=65.7%\n",
      "Epoch 12 validation: Cross-entropy=0.79, Accuracy=65.7%\n",
      "Epoch 13 validation: Cross-entropy=0.77, Accuracy=65.7%\n",
      "Epoch 14 validation: Cross-entropy=0.75, Accuracy=65.7%\n",
      "Epoch 15 validation: Cross-entropy=0.73, Accuracy=65.7%\n",
      "Epoch 16 validation: Cross-entropy=0.71, Accuracy=65.7%\n",
      "Epoch 17 validation: Cross-entropy=0.70, Accuracy=65.7%\n",
      "Epoch 18 validation: Cross-entropy=0.68, Accuracy=65.7%\n",
      "Epoch 19 validation: Cross-entropy=0.66, Accuracy=65.7%\n",
      "Epoch 20 validation: Cross-entropy=0.65, Accuracy=65.7%\n",
      "Epoch 21 validation: Cross-entropy=0.63, Accuracy=65.7%\n",
      "Epoch 22 validation: Cross-entropy=0.62, Accuracy=66.7%\n",
      "Epoch 23 validation: Cross-entropy=0.60, Accuracy=66.7%\n",
      "Epoch 24 validation: Cross-entropy=0.59, Accuracy=66.7%\n",
      "Epoch 25 validation: Cross-entropy=0.58, Accuracy=67.6%\n",
      "Epoch 26 validation: Cross-entropy=0.57, Accuracy=67.6%\n",
      "Epoch 27 validation: Cross-entropy=0.55, Accuracy=68.6%\n",
      "Epoch 28 validation: Cross-entropy=0.54, Accuracy=68.6%\n",
      "Epoch 29 validation: Cross-entropy=0.53, Accuracy=68.6%\n",
      "Epoch 30 validation: Cross-entropy=0.52, Accuracy=69.5%\n",
      "Epoch 31 validation: Cross-entropy=0.51, Accuracy=71.4%\n",
      "Epoch 32 validation: Cross-entropy=0.50, Accuracy=76.2%\n",
      "Epoch 33 validation: Cross-entropy=0.49, Accuracy=77.1%\n",
      "Epoch 34 validation: Cross-entropy=0.49, Accuracy=79.0%\n",
      "Epoch 35 validation: Cross-entropy=0.48, Accuracy=81.9%\n",
      "Epoch 36 validation: Cross-entropy=0.47, Accuracy=83.8%\n",
      "Epoch 37 validation: Cross-entropy=0.46, Accuracy=85.7%\n",
      "Epoch 38 validation: Cross-entropy=0.46, Accuracy=85.7%\n",
      "Epoch 39 validation: Cross-entropy=0.45, Accuracy=86.7%\n",
      "Epoch 40 validation: Cross-entropy=0.44, Accuracy=88.6%\n",
      "Epoch 41 validation: Cross-entropy=0.44, Accuracy=90.5%\n",
      "Epoch 42 validation: Cross-entropy=0.43, Accuracy=91.4%\n",
      "Epoch 43 validation: Cross-entropy=0.42, Accuracy=91.4%\n",
      "Epoch 44 validation: Cross-entropy=0.42, Accuracy=94.3%\n",
      "Epoch 45 validation: Cross-entropy=0.41, Accuracy=94.3%\n",
      "Epoch 46 validation: Cross-entropy=0.41, Accuracy=95.2%\n",
      "Epoch 47 validation: Cross-entropy=0.40, Accuracy=95.2%\n",
      "Epoch 48 validation: Cross-entropy=0.39, Accuracy=97.1%\n",
      "Epoch 49 validation: Cross-entropy=0.39, Accuracy=97.1%\n",
      "Epoch 50 validation: Cross-entropy=0.38, Accuracy=97.1%\n",
      "Epoch 51 validation: Cross-entropy=0.38, Accuracy=97.1%\n",
      "Epoch 52 validation: Cross-entropy=0.37, Accuracy=97.1%\n",
      "Epoch 53 validation: Cross-entropy=0.37, Accuracy=97.1%\n",
      "Epoch 54 validation: Cross-entropy=0.37, Accuracy=97.1%\n",
      "Epoch 55 validation: Cross-entropy=0.36, Accuracy=97.1%\n",
      "Epoch 56 validation: Cross-entropy=0.36, Accuracy=98.1%\n",
      "Epoch 57 validation: Cross-entropy=0.35, Accuracy=98.1%\n",
      "Epoch 58 validation: Cross-entropy=0.35, Accuracy=98.1%\n",
      "Epoch 59 validation: Cross-entropy=0.34, Accuracy=98.1%\n",
      "Epoch 60 validation: Cross-entropy=0.34, Accuracy=98.1%\n",
      "Epoch 61 validation: Cross-entropy=0.34, Accuracy=98.1%\n",
      "Epoch 62 validation: Cross-entropy=0.33, Accuracy=98.1%\n",
      "Epoch 63 validation: Cross-entropy=0.33, Accuracy=98.1%\n",
      "Epoch 64 validation: Cross-entropy=0.32, Accuracy=98.1%\n",
      "Epoch 65 validation: Cross-entropy=0.32, Accuracy=98.1%\n",
      "Epoch 66 validation: Cross-entropy=0.32, Accuracy=98.1%\n",
      "Epoch 67 validation: Cross-entropy=0.31, Accuracy=98.1%\n",
      "Epoch 68 validation: Cross-entropy=0.31, Accuracy=97.1%\n",
      "Epoch 69 validation: Cross-entropy=0.30, Accuracy=97.1%\n",
      "Epoch 70 validation: Cross-entropy=0.30, Accuracy=97.1%\n",
      "Epoch 71 validation: Cross-entropy=0.30, Accuracy=97.1%\n",
      "Epoch 72 validation: Cross-entropy=0.29, Accuracy=97.1%\n",
      "Epoch 73 validation: Cross-entropy=0.29, Accuracy=97.1%\n",
      "Epoch 74 validation: Cross-entropy=0.29, Accuracy=97.1%\n",
      "Epoch 75 validation: Cross-entropy=0.28, Accuracy=97.1%\n",
      "Epoch 76 validation: Cross-entropy=0.28, Accuracy=98.1%\n",
      "Epoch 77 validation: Cross-entropy=0.28, Accuracy=98.1%\n",
      "Epoch 78 validation: Cross-entropy=0.27, Accuracy=98.1%\n",
      "Epoch 79 validation: Cross-entropy=0.27, Accuracy=98.1%\n",
      "Epoch 80 validation: Cross-entropy=0.27, Accuracy=98.1%\n",
      "Epoch 81 validation: Cross-entropy=0.26, Accuracy=98.1%\n",
      "Epoch 82 validation: Cross-entropy=0.26, Accuracy=98.1%\n",
      "Epoch 83 validation: Cross-entropy=0.26, Accuracy=98.1%\n",
      "Epoch 84 validation: Cross-entropy=0.26, Accuracy=98.1%\n",
      "Epoch 85 validation: Cross-entropy=0.25, Accuracy=98.1%\n",
      "Epoch 86 validation: Cross-entropy=0.25, Accuracy=98.1%\n",
      "Epoch 87 validation: Cross-entropy=0.25, Accuracy=98.1%\n",
      "Epoch 88 validation: Cross-entropy=0.24, Accuracy=98.1%\n",
      "Epoch 89 validation: Cross-entropy=0.24, Accuracy=98.1%\n",
      "Epoch 90 validation: Cross-entropy=0.24, Accuracy=98.1%\n",
      "Epoch 91 validation: Cross-entropy=0.24, Accuracy=98.1%\n",
      "Epoch 92 validation: Cross-entropy=0.23, Accuracy=98.1%\n",
      "Epoch 93 validation: Cross-entropy=0.23, Accuracy=98.1%\n",
      "Epoch 94 validation: Cross-entropy=0.23, Accuracy=98.1%\n",
      "Epoch 95 validation: Cross-entropy=0.23, Accuracy=98.1%\n",
      "Epoch 96 validation: Cross-entropy=0.22, Accuracy=98.1%\n",
      "Epoch 97 validation: Cross-entropy=0.22, Accuracy=98.1%\n",
      "Epoch 98 validation: Cross-entropy=0.22, Accuracy=98.1%\n",
      "Epoch 99 validation: Cross-entropy=0.22, Accuracy=98.1%\n"
     ]
    },
    {
     "data": {
      "text/plain": [
       "('Loss=1.30, Accuracy=0.0%', 'Loss=0.34, Accuracy=33.3%')"
      ]
     },
     "execution_count": 56,
     "metadata": {},
     "output_type": "execute_result"
    }
   ],
   "source": [
    "model = Multiclass()\n",
    "loss_fn = nn.CrossEntropyLoss()\n",
    "optimizer = optim.Adam(model.parameters(), lr=0.001)\n",
    "\n",
    "pre_loss, pre_acc = test(model, xts, yts)\n",
    "train_epochs(model, xtr, ytr, xts, yts)\n",
    "post_loss, post_acc = test(model, xts, yts)\n",
    "format_stats(pre_loss, pre_acc), format_stats(post_loss, post_acc)"
   ]
  },
  {
   "cell_type": "code",
   "execution_count": 10,
   "metadata": {
    "executionInfo": {
     "elapsed": 4,
     "status": "aborted",
     "timestamp": 1689622710529,
     "user": {
      "displayName": "Karol Kocierz",
      "userId": "17895505934666913437"
     },
     "user_tz": -120
    },
    "id": "TIqG-m9ULYQi"
   },
   "outputs": [
    {
     "data": {
      "text/plain": [
       "0"
      ]
     },
     "execution_count": 10,
     "metadata": {},
     "output_type": "execute_result"
    }
   ],
   "source": []
  },
  {
   "cell_type": "code",
   "execution_count": null,
   "metadata": {},
   "outputs": [],
   "source": []
  }
 ],
 "metadata": {
  "colab": {
   "authorship_tag": "ABX9TyMeUQW+E3kItOSF30E4RKPD",
   "provenance": []
  },
  "kernelspec": {
   "display_name": "Python 3 (ipykernel)",
   "language": "python",
   "name": "python3"
  },
  "language_info": {
   "codemirror_mode": {
    "name": "ipython",
    "version": 3
   },
   "file_extension": ".py",
   "mimetype": "text/x-python",
   "name": "python",
   "nbconvert_exporter": "python",
   "pygments_lexer": "ipython3",
   "version": "3.11.4"
  }
 },
 "nbformat": 4,
 "nbformat_minor": 4
}
